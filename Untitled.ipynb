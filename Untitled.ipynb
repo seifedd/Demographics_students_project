{
 "cells": [
  {
   "cell_type": "code",
   "execution_count": 1,
   "metadata": {},
   "outputs": [],
   "source": [
    "## Data: US census data \n",
    "# perform webscrapping to get the data from the web and perform cleaning \n",
    "# it is better to get acquainted to requests as soon as possible, since you will probably need it in the future."
   ]
  },
  {
   "cell_type": "code",
   "execution_count": 7,
   "metadata": {},
   "outputs": [],
   "source": [
    "#import statements \n",
    "import requests \n"
   ]
  },
  {
   "cell_type": "code",
   "execution_count": 69,
   "metadata": {},
   "outputs": [
    {
     "data": {
      "text/plain": [
       "str"
      ]
     },
     "execution_count": 69,
     "metadata": {},
     "output_type": "execute_result"
    }
   ],
   "source": [
    "# we will use the appropriate named get function to issue a GET request. \n",
    "req=requests.get(\"https://en.wikipedia.org/wiki/Harvard_University\")\n",
    "req\n",
    "type(req)\n",
    "dir(req)\n",
    "# req.url\n",
    "# req.__format__\n",
    "# req.__doc__\n",
    "type(req.text)"
   ]
  },
  {
   "cell_type": "code",
   "execution_count": 70,
   "metadata": {},
   "outputs": [],
   "source": [
    "from bs4 import BeautifulSoup\n",
    "page=req.text\n",
    "soup = BeautifulSoup(page,'html.parser')\n"
   ]
  },
  {
   "cell_type": "code",
   "execution_count": 71,
   "metadata": {},
   "outputs": [
    {
     "data": {
      "text/plain": [
       "bs4.BeautifulSoup"
      ]
     },
     "execution_count": 71,
     "metadata": {},
     "output_type": "execute_result"
    }
   ],
   "source": [
    "## Let's check the string representation of soup object\n",
    "type(soup)\n",
    "# soup"
   ]
  },
  {
   "cell_type": "code",
   "execution_count": 60,
   "metadata": {},
   "outputs": [
    {
     "name": "stdout",
     "output_type": "stream",
     "text": [
      "<title>OSU Beaver Store - Official Site - Fans Start Here!</title>\n",
      "<p> </p>\n"
     ]
    },
    {
     "data": {
      "text/plain": [
       "12"
      ]
     },
     "execution_count": 60,
     "metadata": {},
     "output_type": "execute_result"
    }
   ],
   "source": [
    "# print(soup.prettify())\n",
    "print(soup.title)\n",
    "print(soup.p)\n",
    "# for elt in soup.findAll('p'):\n",
    "#     print(elt)\n",
    "len(soup.findAll('p'))"
   ]
  },
  {
   "cell_type": "code",
   "execution_count": 78,
   "metadata": {
    "scrolled": true
   },
   "outputs": [
    {
     "data": {
      "text/plain": [
       "[['infobox', 'vcard'],\n",
       " ['toccolours'],\n",
       " ['box-Expand_section',\n",
       "  'plainlinks',\n",
       "  'metadata',\n",
       "  'ambox',\n",
       "  'mbox-small-left',\n",
       "  'ambox-content'],\n",
       " ['infobox'],\n",
       " ['wikitable', 'sortable', 'collapsible', 'collapsed', 'floatright'],\n",
       " ['wikitable', 'sortable', 'collapsible', 'collapsed', 'floatright'],\n",
       " ['wikitable'],\n",
       " ['box-Cleanup-gallery', 'plainlinks', 'metadata', 'ambox', 'ambox-style'],\n",
       " ['metadata', 'mbox-small'],\n",
       " ['nowraplinks', 'mw-collapsible', 'mw-collapsed', 'navbox-inner'],\n",
       " ['nowraplinks', 'navbox-subgroup'],\n",
       " ['nowraplinks', 'navbox-subgroup'],\n",
       " ['nowraplinks', 'mw-collapsible', 'mw-collapsed', 'navbox-inner'],\n",
       " ['nowraplinks', 'mw-collapsible', 'autocollapse', 'navbox-inner'],\n",
       " ['nowraplinks', 'mw-collapsible', 'mw-collapsed', 'navbox-inner'],\n",
       " ['nowraplinks', 'mw-collapsible', 'autocollapse', 'navbox-inner'],\n",
       " ['nowraplinks', 'mw-collapsible', 'autocollapse', 'navbox-inner'],\n",
       " ['nowraplinks', 'mw-collapsible', 'autocollapse', 'navbox-inner'],\n",
       " ['nowraplinks', 'mw-collapsible', 'autocollapse', 'navbox-inner'],\n",
       " ['nowraplinks', 'mw-collapsible', 'autocollapse', 'navbox-inner'],\n",
       " ['nowraplinks', 'mw-collapsible', 'autocollapse', 'navbox-inner'],\n",
       " ['nowraplinks', 'hlist', 'mw-collapsible', 'autocollapse', 'navbox-inner'],\n",
       " ['nowraplinks', 'mw-collapsible', 'autocollapse', 'navbox-inner'],\n",
       " ['nowraplinks', 'mw-collapsible', 'autocollapse', 'navbox-inner'],\n",
       " ['nowraplinks', 'hlist', 'mw-collapsible', 'autocollapse', 'navbox-inner'],\n",
       " ['nowraplinks', 'hlist', 'navbox-inner']]"
      ]
     },
     "execution_count": 78,
     "metadata": {},
     "output_type": "execute_result"
    }
   ],
   "source": [
    "[t['class'] for t in soup.find_all(\"table\") if t.get('class')]"
   ]
  },
  {
   "cell_type": "code",
   "execution_count": 171,
   "metadata": {},
   "outputs": [
    {
     "data": {
      "text/plain": [
       "'[<table class=\"wikitable sortable collapsible collapsed floatright\">\\n<tbody><tr>\\n<th colspan=\"4\" style=\"background-color:#A51C30;color:white;-moz-box-shadow: inset 2px 2px 0 #1E1E1E, inset -2px -2px 0 #1E1E1E; -webkit-box-shadow: inset 2px 2px 0 #1E1E1E, inset -2px -2px 0 #1E1E1E; box-shadow: inset 2px 2px 0 #1E1E1E, inset -2px -2px 0 #1E1E1E;\">National Program Rankings<sup class=\"reference\" id=\"cite_ref-USNWR_Grad_School_Rankings_128-0\"><a href=\"#cite_note-USNWR_Grad_School_Rankings-128\">[128]</a></sup>\\n</th></tr>\\n<tr>\\n<th>Program\\n</th>\\n<th>Ranking\\n</th></tr>\\n<tr>\\n<td>Biological Sciences</td>\\n<td>4\\n</td></tr>\\n<tr>\\n<td>Business</td>\\n<td>3\\n</td></tr>\\n<tr>\\n<td>Chemistry</td>\\n<td>2\\n</td></tr>\\n<tr>\\n<td>Clinical Psychology</td>\\n<td>16\\n</td></tr>\\n<tr>\\n<td>Computer Science</td>\\n<td>16\\n</td></tr>\\n<tr>\\n<td>Earth Sciences</td>\\n<td>8\\n</td></tr>\\n<tr>\\n<td>Economics</td>\\n<td>1\\n</td></tr>\\n<tr>\\n<td>Education</td>\\n<td>1\\n</td></tr>\\n<tr>\\n<td>Engineering</td>\\n<td>21\\n</td></tr>\\n<tr>\\n<td>English</td>\\n<td>8\\n</td></tr>\\n<tr>\\n<td>History</td>\\n<td>4\\n</td></tr>\\n<tr>\\n<td>Law</td>\\n<td>3\\n</td></tr>\\n<tr>\\n<td>Mathematics</td>\\n<td>2\\n</td></tr>\\n<tr>\\n<td>Medicine: Primary Care</td>\\n<td>17\\n</td></tr>\\n<tr>\\n<td>Medicine: Research</td>\\n<td>1\\n</td></tr>\\n<tr>\\n<td>Physics</td>\\n<td>3\\n</td></tr>\\n<tr>\\n<td>Political Science</td>\\n<td>1\\n</td></tr>\\n<tr>\\n<td>Psychology</td>\\n<td>3\\n</td></tr>\\n<tr>\\n<td>Public Affairs</td>\\n<td>3\\n</td></tr>\\n<tr>\\n<td>Public Health</td>\\n<td>2\\n</td></tr>\\n<tr>\\n<td>Sociology</td>\\n<td>1\\n</td></tr>\\n<tr>\\n<td>Statistics</td>\\n<td>3\\n</td></tr></tbody></table>, <table class=\"wikitable sortable collapsible collapsed floatright\">\\n<tbody><tr>\\n<th colspan=\"4\" style=\"background-color:#A51C30;color:white;-moz-box-shadow: inset 2px 2px 0 #1E1E1E, inset -2px -2px 0 #1E1E1E; -webkit-box-shadow: inset 2px 2px 0 #1E1E1E, inset -2px -2px 0 #1E1E1E; box-shadow: inset 2px 2px 0 #1E1E1E, inset -2px -2px 0 #1E1E1E;\">Global Program Rankings<sup class=\"reference\" id=\"cite_ref-USNWR_Global_Univ_Rankings_129-0\"><a href=\"#cite_note-USNWR_Global_Univ_Rankings-129\">[129]</a></sup>\\n</th></tr>\\n<tr>\\n<th>Program\\n</th>\\n<th>Ranking\\n</th></tr>\\n<tr>\\n<td>Agricultural Sciences</td>\\n<td>26\\n</td></tr>\\n<tr>\\n<td>Arts &amp; Humanities</td>\\n<td>2\\n</td></tr>\\n<tr>\\n<td>Biology &amp; Biochemistry</td>\\n<td>1\\n</td></tr>\\n<tr>\\n<td>Chemistry</td>\\n<td>9\\n</td></tr>\\n<tr>\\n<td>Clinical Medicine</td>\\n<td>1\\n</td></tr>\\n<tr>\\n<td>Computer Science</td>\\n<td>35\\n</td></tr>\\n<tr>\\n<td>Economics &amp; Business</td>\\n<td>1\\n</td></tr>\\n<tr>\\n<td>Engineering</td>\\n<td>36\\n</td></tr>\\n<tr>\\n<td>Environment/Ecology</td>\\n<td>3\\n</td></tr>\\n<tr>\\n<td>Geosciences</td>\\n<td>7\\n</td></tr>\\n<tr>\\n<td>Immunology</td>\\n<td>1\\n</td></tr>\\n<tr>\\n<td>Materials Science</td>\\n<td>5\\n</td></tr>\\n<tr>\\n<td>Mathematics</td>\\n<td>11\\n</td></tr>\\n<tr>\\n<td>Microbiology</td>\\n<td>1\\n</td></tr>\\n<tr>\\n<td>Molecular Biology &amp; Genetics</td>\\n<td>1\\n</td></tr>\\n<tr>\\n<td>Neuroscience &amp; Behavior</td>\\n<td>1\\n</td></tr>\\n<tr>\\n<td>Pharmacology &amp; Toxicology</td>\\n<td>1\\n</td></tr>\\n<tr>\\n<td>Physics</td>\\n<td>4\\n</td></tr>\\n<tr>\\n<td>Plant &amp; Animal Science</td>\\n<td>18\\n</td></tr>\\n<tr>\\n<td>Psychiatry/Psychology</td>\\n<td>1\\n</td></tr>\\n<tr>\\n<td>Social Sciences &amp; Public Health</td>\\n<td>1\\n</td></tr>\\n<tr>\\n<td>Space Science</td>\\n<td>2\\n</td></tr></tbody></table>, <table class=\"wikitable\" style=\"text-align:center; float:right; font-size:85%; margin-right:2em;\">\\n<caption><i>Demographics of student body</i><sup class=\"reference\" id=\"cite_ref-Head_count_135-0\"><a href=\"#cite_note-Head_count-135\">[135]</a></sup><sup class=\"reference\" id=\"cite_ref-136\"><a href=\"#cite_note-136\">[136]</a></sup><sup class=\"reference\" id=\"cite_ref-137\"><a href=\"#cite_note-137\">[137]</a></sup>\\n</caption>\\n<tbody><tr>\\n<th></th>\\n<th>Undergrad</th>\\n<th>Graduate</th>\\n<th>U.S. census\\n</th></tr>\\n<tr>\\n<th>Asian/Pacific Islander\\n</th>\\n<td>17%</td>\\n<td>11%</td>\\n<td>5%\\n</td></tr>\\n<tr>\\n<th>Black/non-Hispanic\\n</th>\\n<td>6%</td>\\n<td>4%</td>\\n<td>12%\\n</td></tr>\\n<tr>\\n<th>Hispanics of any race\\n</th>\\n<td>9%</td>\\n<td>5%</td>\\n<td>16%\\n</td></tr>\\n<tr>\\n<th>White/non-Hispanic\\n</th>\\n<td>46%</td>\\n<td>43%</td>\\n<td>64%\\n</td></tr>\\n<tr>\\n<th>Mixed race/other\\n</th>\\n<td>10%</td>\\n<td>8%</td>\\n<td>9%\\n</td></tr>\\n<tr>\\n<th>International students\\n</th>\\n<td>11%</td>\\n<td>27%</td>\\n<td>N/A\\n</td></tr></tbody></table>]'"
      ]
     },
     "execution_count": 171,
     "metadata": {},
     "output_type": "execute_result"
    }
   ],
   "source": [
    "table_html = (soup.findAll(\"table\", \"wikitable\"))\n",
    "table=str(table_html)\n",
    "table"
   ]
  },
  {
   "cell_type": "code",
   "execution_count": 181,
   "metadata": {
    "scrolled": true
   },
   "outputs": [
    {
     "data": {
      "text/plain": [
       "[<tr>\n",
       " <th colspan=\"4\" style=\"background-color:#A51C30;color:white;-moz-box-shadow: inset 2px 2px 0 #1E1E1E, inset -2px -2px 0 #1E1E1E; -webkit-box-shadow: inset 2px 2px 0 #1E1E1E, inset -2px -2px 0 #1E1E1E; box-shadow: inset 2px 2px 0 #1E1E1E, inset -2px -2px 0 #1E1E1E;\">National Program Rankings<sup class=\"reference\" id=\"cite_ref-USNWR_Grad_School_Rankings_128-0\"><a href=\"#cite_note-USNWR_Grad_School_Rankings-128\">[128]</a></sup>\n",
       " </th></tr>, <tr>\n",
       " <th>Program\n",
       " </th>\n",
       " <th>Ranking\n",
       " </th></tr>, <tr>\n",
       " <td>Biological Sciences</td>\n",
       " <td>4\n",
       " </td></tr>, <tr>\n",
       " <td>Business</td>\n",
       " <td>3\n",
       " </td></tr>, <tr>\n",
       " <td>Chemistry</td>\n",
       " <td>2\n",
       " </td></tr>, <tr>\n",
       " <td>Clinical Psychology</td>\n",
       " <td>16\n",
       " </td></tr>, <tr>\n",
       " <td>Computer Science</td>\n",
       " <td>16\n",
       " </td></tr>, <tr>\n",
       " <td>Earth Sciences</td>\n",
       " <td>8\n",
       " </td></tr>, <tr>\n",
       " <td>Economics</td>\n",
       " <td>1\n",
       " </td></tr>, <tr>\n",
       " <td>Education</td>\n",
       " <td>1\n",
       " </td></tr>, <tr>\n",
       " <td>Engineering</td>\n",
       " <td>21\n",
       " </td></tr>, <tr>\n",
       " <td>English</td>\n",
       " <td>8\n",
       " </td></tr>, <tr>\n",
       " <td>History</td>\n",
       " <td>4\n",
       " </td></tr>, <tr>\n",
       " <td>Law</td>\n",
       " <td>3\n",
       " </td></tr>, <tr>\n",
       " <td>Mathematics</td>\n",
       " <td>2\n",
       " </td></tr>, <tr>\n",
       " <td>Medicine: Primary Care</td>\n",
       " <td>17\n",
       " </td></tr>, <tr>\n",
       " <td>Medicine: Research</td>\n",
       " <td>1\n",
       " </td></tr>, <tr>\n",
       " <td>Physics</td>\n",
       " <td>3\n",
       " </td></tr>, <tr>\n",
       " <td>Political Science</td>\n",
       " <td>1\n",
       " </td></tr>, <tr>\n",
       " <td>Psychology</td>\n",
       " <td>3\n",
       " </td></tr>, <tr>\n",
       " <td>Public Affairs</td>\n",
       " <td>3\n",
       " </td></tr>, <tr>\n",
       " <td>Public Health</td>\n",
       " <td>2\n",
       " </td></tr>, <tr>\n",
       " <td>Sociology</td>\n",
       " <td>1\n",
       " </td></tr>, <tr>\n",
       " <td>Statistics</td>\n",
       " <td>3\n",
       " </td></tr>]"
      ]
     },
     "execution_count": 181,
     "metadata": {},
     "output_type": "execute_result"
    }
   ],
   "source": [
    "from IPython.core.display import HTML\n",
    "\n",
    "HTML(table)\n",
    "\n",
    "rows=[row for row in soup.find(\"table\",\"wikitable\").findAll('tr')]\n",
    "rows"
   ]
  },
  {
   "cell_type": "code",
   "execution_count": 182,
   "metadata": {},
   "outputs": [
    {
     "data": {
      "text/plain": [
       "['Program ', 'Ranking ']"
      ]
     },
     "execution_count": 182,
     "metadata": {},
     "output_type": "execute_result"
    }
   ],
   "source": [
    "rem_nl=lambda s:s.replace(\"\\n\",\" \")\n",
    "columns = [rem_nl(col.get_text()) for col in rows[1].find_all(\"th\") if col.get_text()]\n",
    "columns"
   ]
  },
  {
   "cell_type": "code",
   "execution_count": 190,
   "metadata": {},
   "outputs": [
    {
     "data": {
      "text/plain": [
       "['\\nProgram\\n\\nRanking\\n',\n",
       " '\\nBiological Sciences\\n4\\n',\n",
       " '\\nBusiness\\n3\\n',\n",
       " '\\nChemistry\\n2\\n',\n",
       " '\\nClinical Psychology\\n16\\n',\n",
       " '\\nComputer Science\\n16\\n',\n",
       " '\\nEarth Sciences\\n8\\n',\n",
       " '\\nEconomics\\n1\\n',\n",
       " '\\nEducation\\n1\\n',\n",
       " '\\nEngineering\\n21\\n',\n",
       " '\\nEnglish\\n8\\n',\n",
       " '\\nHistory\\n4\\n',\n",
       " '\\nLaw\\n3\\n',\n",
       " '\\nMathematics\\n2\\n',\n",
       " '\\nMedicine: Primary Care\\n17\\n',\n",
       " '\\nMedicine: Research\\n1\\n',\n",
       " '\\nPhysics\\n3\\n',\n",
       " '\\nPolitical Science\\n1\\n',\n",
       " '\\nPsychology\\n3\\n',\n",
       " '\\nPublic Affairs\\n3\\n',\n",
       " '\\nPublic Health\\n2\\n',\n",
       " '\\nSociology\\n1\\n',\n",
       " '\\nStatistics\\n3\\n']"
      ]
     },
     "execution_count": 190,
     "metadata": {},
     "output_type": "execute_result"
    }
   ],
   "source": [
    "indexes = [row.get_text() for row in rows[1:]]\n",
    "indexes"
   ]
  },
  {
   "cell_type": "code",
   "execution_count": 186,
   "metadata": {
    "scrolled": true
   },
   "outputs": [
    {
     "data": {
      "text/html": [
       "[<table class=\"wikitable sortable collapsible collapsed floatright\">\n",
       "<tbody><tr>\n",
       "<th colspan=\"4\" style=\"background-color:#A51C30;color:white;-moz-box-shadow: inset 2px 2px 0 #1E1E1E, inset -2px -2px 0 #1E1E1E; -webkit-box-shadow: inset 2px 2px 0 #1E1E1E, inset -2px -2px 0 #1E1E1E; box-shadow: inset 2px 2px 0 #1E1E1E, inset -2px -2px 0 #1E1E1E;\">National Program Rankings<sup class=\"reference\" id=\"cite_ref-USNWR_Grad_School_Rankings_128-0\"><a href=\"#cite_note-USNWR_Grad_School_Rankings-128\">[128]</a></sup>\n",
       "</th></tr>\n",
       "<tr>\n",
       "<th>Program\n",
       "</th>\n",
       "<th>Ranking\n",
       "</th></tr>\n",
       "<tr>\n",
       "<td>Biological Sciences</td>\n",
       "<td>4\n",
       "</td></tr>\n",
       "<tr>\n",
       "<td>Business</td>\n",
       "<td>3\n",
       "</td></tr>\n",
       "<tr>\n",
       "<td>Chemistry</td>\n",
       "<td>2\n",
       "</td></tr>\n",
       "<tr>\n",
       "<td>Clinical Psychology</td>\n",
       "<td>16\n",
       "</td></tr>\n",
       "<tr>\n",
       "<td>Computer Science</td>\n",
       "<td>16\n",
       "</td></tr>\n",
       "<tr>\n",
       "<td>Earth Sciences</td>\n",
       "<td>8\n",
       "</td></tr>\n",
       "<tr>\n",
       "<td>Economics</td>\n",
       "<td>1\n",
       "</td></tr>\n",
       "<tr>\n",
       "<td>Education</td>\n",
       "<td>1\n",
       "</td></tr>\n",
       "<tr>\n",
       "<td>Engineering</td>\n",
       "<td>21\n",
       "</td></tr>\n",
       "<tr>\n",
       "<td>English</td>\n",
       "<td>8\n",
       "</td></tr>\n",
       "<tr>\n",
       "<td>History</td>\n",
       "<td>4\n",
       "</td></tr>\n",
       "<tr>\n",
       "<td>Law</td>\n",
       "<td>3\n",
       "</td></tr>\n",
       "<tr>\n",
       "<td>Mathematics</td>\n",
       "<td>2\n",
       "</td></tr>\n",
       "<tr>\n",
       "<td>Medicine: Primary Care</td>\n",
       "<td>17\n",
       "</td></tr>\n",
       "<tr>\n",
       "<td>Medicine: Research</td>\n",
       "<td>1\n",
       "</td></tr>\n",
       "<tr>\n",
       "<td>Physics</td>\n",
       "<td>3\n",
       "</td></tr>\n",
       "<tr>\n",
       "<td>Political Science</td>\n",
       "<td>1\n",
       "</td></tr>\n",
       "<tr>\n",
       "<td>Psychology</td>\n",
       "<td>3\n",
       "</td></tr>\n",
       "<tr>\n",
       "<td>Public Affairs</td>\n",
       "<td>3\n",
       "</td></tr>\n",
       "<tr>\n",
       "<td>Public Health</td>\n",
       "<td>2\n",
       "</td></tr>\n",
       "<tr>\n",
       "<td>Sociology</td>\n",
       "<td>1\n",
       "</td></tr>\n",
       "<tr>\n",
       "<td>Statistics</td>\n",
       "<td>3\n",
       "</td></tr></tbody></table>, <table class=\"wikitable sortable collapsible collapsed floatright\">\n",
       "<tbody><tr>\n",
       "<th colspan=\"4\" style=\"background-color:#A51C30;color:white;-moz-box-shadow: inset 2px 2px 0 #1E1E1E, inset -2px -2px 0 #1E1E1E; -webkit-box-shadow: inset 2px 2px 0 #1E1E1E, inset -2px -2px 0 #1E1E1E; box-shadow: inset 2px 2px 0 #1E1E1E, inset -2px -2px 0 #1E1E1E;\">Global Program Rankings<sup class=\"reference\" id=\"cite_ref-USNWR_Global_Univ_Rankings_129-0\"><a href=\"#cite_note-USNWR_Global_Univ_Rankings-129\">[129]</a></sup>\n",
       "</th></tr>\n",
       "<tr>\n",
       "<th>Program\n",
       "</th>\n",
       "<th>Ranking\n",
       "</th></tr>\n",
       "<tr>\n",
       "<td>Agricultural Sciences</td>\n",
       "<td>26\n",
       "</td></tr>\n",
       "<tr>\n",
       "<td>Arts &amp; Humanities</td>\n",
       "<td>2\n",
       "</td></tr>\n",
       "<tr>\n",
       "<td>Biology &amp; Biochemistry</td>\n",
       "<td>1\n",
       "</td></tr>\n",
       "<tr>\n",
       "<td>Chemistry</td>\n",
       "<td>9\n",
       "</td></tr>\n",
       "<tr>\n",
       "<td>Clinical Medicine</td>\n",
       "<td>1\n",
       "</td></tr>\n",
       "<tr>\n",
       "<td>Computer Science</td>\n",
       "<td>35\n",
       "</td></tr>\n",
       "<tr>\n",
       "<td>Economics &amp; Business</td>\n",
       "<td>1\n",
       "</td></tr>\n",
       "<tr>\n",
       "<td>Engineering</td>\n",
       "<td>36\n",
       "</td></tr>\n",
       "<tr>\n",
       "<td>Environment/Ecology</td>\n",
       "<td>3\n",
       "</td></tr>\n",
       "<tr>\n",
       "<td>Geosciences</td>\n",
       "<td>7\n",
       "</td></tr>\n",
       "<tr>\n",
       "<td>Immunology</td>\n",
       "<td>1\n",
       "</td></tr>\n",
       "<tr>\n",
       "<td>Materials Science</td>\n",
       "<td>5\n",
       "</td></tr>\n",
       "<tr>\n",
       "<td>Mathematics</td>\n",
       "<td>11\n",
       "</td></tr>\n",
       "<tr>\n",
       "<td>Microbiology</td>\n",
       "<td>1\n",
       "</td></tr>\n",
       "<tr>\n",
       "<td>Molecular Biology &amp; Genetics</td>\n",
       "<td>1\n",
       "</td></tr>\n",
       "<tr>\n",
       "<td>Neuroscience &amp; Behavior</td>\n",
       "<td>1\n",
       "</td></tr>\n",
       "<tr>\n",
       "<td>Pharmacology &amp; Toxicology</td>\n",
       "<td>1\n",
       "</td></tr>\n",
       "<tr>\n",
       "<td>Physics</td>\n",
       "<td>4\n",
       "</td></tr>\n",
       "<tr>\n",
       "<td>Plant &amp; Animal Science</td>\n",
       "<td>18\n",
       "</td></tr>\n",
       "<tr>\n",
       "<td>Psychiatry/Psychology</td>\n",
       "<td>1\n",
       "</td></tr>\n",
       "<tr>\n",
       "<td>Social Sciences &amp; Public Health</td>\n",
       "<td>1\n",
       "</td></tr>\n",
       "<tr>\n",
       "<td>Space Science</td>\n",
       "<td>2\n",
       "</td></tr></tbody></table>, <table class=\"wikitable\" style=\"text-align:center; float:right; font-size:85%; margin-right:2em;\">\n",
       "<caption><i>Demographics of student body</i><sup class=\"reference\" id=\"cite_ref-Head_count_135-0\"><a href=\"#cite_note-Head_count-135\">[135]</a></sup><sup class=\"reference\" id=\"cite_ref-136\"><a href=\"#cite_note-136\">[136]</a></sup><sup class=\"reference\" id=\"cite_ref-137\"><a href=\"#cite_note-137\">[137]</a></sup>\n",
       "</caption>\n",
       "<tbody><tr>\n",
       "<th></th>\n",
       "<th>Undergrad</th>\n",
       "<th>Graduate</th>\n",
       "<th>U.S. census\n",
       "</th></tr>\n",
       "<tr>\n",
       "<th>Asian/Pacific Islander\n",
       "</th>\n",
       "<td>17%</td>\n",
       "<td>11%</td>\n",
       "<td>5%\n",
       "</td></tr>\n",
       "<tr>\n",
       "<th>Black/non-Hispanic\n",
       "</th>\n",
       "<td>6%</td>\n",
       "<td>4%</td>\n",
       "<td>12%\n",
       "</td></tr>\n",
       "<tr>\n",
       "<th>Hispanics of any race\n",
       "</th>\n",
       "<td>9%</td>\n",
       "<td>5%</td>\n",
       "<td>16%\n",
       "</td></tr>\n",
       "<tr>\n",
       "<th>White/non-Hispanic\n",
       "</th>\n",
       "<td>46%</td>\n",
       "<td>43%</td>\n",
       "<td>64%\n",
       "</td></tr>\n",
       "<tr>\n",
       "<th>Mixed race/other\n",
       "</th>\n",
       "<td>10%</td>\n",
       "<td>8%</td>\n",
       "<td>9%\n",
       "</td></tr>\n",
       "<tr>\n",
       "<th>International students\n",
       "</th>\n",
       "<td>11%</td>\n",
       "<td>27%</td>\n",
       "<td>N/A\n",
       "</td></tr></tbody></table>]"
      ],
      "text/plain": [
       "<IPython.core.display.HTML object>"
      ]
     },
     "execution_count": 186,
     "metadata": {},
     "output_type": "execute_result"
    }
   ],
   "source": [
    "HTML(table)"
   ]
  },
  {
   "cell_type": "code",
   "execution_count": 211,
   "metadata": {},
   "outputs": [
    {
     "data": {
      "text/plain": [
       "[4, 3, 2, 16, 16, 8, 1, 1, 21, 8, 4, 3, 2, 17, 1, 3, 1, 3, 3, 2, 1, 3]"
      ]
     },
     "execution_count": 211,
     "metadata": {},
     "output_type": "execute_result"
    }
   ],
   "source": [
    "to_num = lambda s: s[-1] == \"%\" and int(s[:-1]) or None\n",
    "values = [(value.get_text()) for row in rows[2:] for value in row.find_all(\"td\")]\n",
    "values[1::2]\n",
    "new_value=[]\n",
    "for s in values[1::2]:\n",
    "    s=s.replace(\"\\n\",\" \")\n",
    "    new_value.append(int(s))\n",
    "new_value"
   ]
  }
 ],
 "metadata": {
  "kernelspec": {
   "display_name": "Python 3",
   "language": "python",
   "name": "python3"
  },
  "language_info": {
   "codemirror_mode": {
    "name": "ipython",
    "version": 3
   },
   "file_extension": ".py",
   "mimetype": "text/x-python",
   "name": "python",
   "nbconvert_exporter": "python",
   "pygments_lexer": "ipython3",
   "version": "3.6.8"
  }
 },
 "nbformat": 4,
 "nbformat_minor": 2
}
